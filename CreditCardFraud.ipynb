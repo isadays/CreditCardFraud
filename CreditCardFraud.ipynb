{
  "nbformat": 4,
  "nbformat_minor": 0,
  "metadata": {
    "colab": {
      "provenance": []
    },
    "kernelspec": {
      "name": "python3",
      "display_name": "Python 3"
    },
    "language_info": {
      "name": "python"
    }
  },
  "cells": [
    {
      "cell_type": "code",
      "source": [
        "import pandas as pd"
      ],
      "metadata": {
        "id": "hmS1uevojAKe"
      },
      "execution_count": 9,
      "outputs": []
    },
    {
      "cell_type": "code",
      "source": [
        "data = pd.read_csv('creditcard.csv')"
      ],
      "metadata": {
        "id": "LhtwC5uGjBq6"
      },
      "execution_count": 10,
      "outputs": []
    },
    {
      "cell_type": "markdown",
      "source": [
        "In this dataset the features are unknown vectors. But it is possible to analyze the correlations between them."
      ],
      "metadata": {
        "id": "Z7wi-4dRjK35"
      }
    },
    {
      "cell_type": "code",
      "source": [
        "data.head()"
      ],
      "metadata": {
        "colab": {
          "base_uri": "https://localhost:8080/",
          "height": 256
        },
        "id": "dwixdlCajISR",
        "outputId": "7eac82a2-253a-4639-ea3e-698c6aeaee4a"
      },
      "execution_count": 11,
      "outputs": [
        {
          "output_type": "execute_result",
          "data": {
            "text/plain": [
              "   Time        V1        V2        V3        V4        V5        V6        V7  \\\n",
              "0     0 -1.359807 -0.072781  2.536347  1.378155 -0.338321  0.462388  0.239599   \n",
              "1     0  1.191857  0.266151  0.166480  0.448154  0.060018 -0.082361 -0.078803   \n",
              "2     1 -1.358354 -1.340163  1.773209  0.379780 -0.503198  1.800499  0.791461   \n",
              "3     1 -0.966272 -0.185226  1.792993 -0.863291 -0.010309  1.247203  0.237609   \n",
              "4     2 -1.158233  0.877737  1.548718  0.403034 -0.407193  0.095921  0.592941   \n",
              "\n",
              "         V8        V9  ...       V21       V22       V23       V24       V25  \\\n",
              "0  0.098698  0.363787  ... -0.018307  0.277838 -0.110474  0.066928  0.128539   \n",
              "1  0.085102 -0.255425  ... -0.225775 -0.638672  0.101288 -0.339846  0.167170   \n",
              "2  0.247676 -1.514654  ...  0.247998  0.771679  0.909412 -0.689281 -0.327642   \n",
              "3  0.377436 -1.387024  ... -0.108300  0.005274 -0.190321 -1.175575  0.647376   \n",
              "4 -0.270533  0.817739  ... -0.009431  0.798278 -0.137458  0.141267 -0.206010   \n",
              "\n",
              "        V26       V27       V28  Amount  Class  \n",
              "0 -0.189115  0.133558 -0.021053  149.62    0.0  \n",
              "1  0.125895 -0.008983  0.014724    2.69    0.0  \n",
              "2 -0.139097 -0.055353 -0.059752  378.66    0.0  \n",
              "3 -0.221929  0.062723  0.061458  123.50    0.0  \n",
              "4  0.502292  0.219422  0.215153   69.99    0.0  \n",
              "\n",
              "[5 rows x 31 columns]"
            ],
            "text/html": [
              "\n",
              "  <div id=\"df-986139a8-1461-4c49-a5c4-85b19b559056\" class=\"colab-df-container\">\n",
              "    <div>\n",
              "<style scoped>\n",
              "    .dataframe tbody tr th:only-of-type {\n",
              "        vertical-align: middle;\n",
              "    }\n",
              "\n",
              "    .dataframe tbody tr th {\n",
              "        vertical-align: top;\n",
              "    }\n",
              "\n",
              "    .dataframe thead th {\n",
              "        text-align: right;\n",
              "    }\n",
              "</style>\n",
              "<table border=\"1\" class=\"dataframe\">\n",
              "  <thead>\n",
              "    <tr style=\"text-align: right;\">\n",
              "      <th></th>\n",
              "      <th>Time</th>\n",
              "      <th>V1</th>\n",
              "      <th>V2</th>\n",
              "      <th>V3</th>\n",
              "      <th>V4</th>\n",
              "      <th>V5</th>\n",
              "      <th>V6</th>\n",
              "      <th>V7</th>\n",
              "      <th>V8</th>\n",
              "      <th>V9</th>\n",
              "      <th>...</th>\n",
              "      <th>V21</th>\n",
              "      <th>V22</th>\n",
              "      <th>V23</th>\n",
              "      <th>V24</th>\n",
              "      <th>V25</th>\n",
              "      <th>V26</th>\n",
              "      <th>V27</th>\n",
              "      <th>V28</th>\n",
              "      <th>Amount</th>\n",
              "      <th>Class</th>\n",
              "    </tr>\n",
              "  </thead>\n",
              "  <tbody>\n",
              "    <tr>\n",
              "      <th>0</th>\n",
              "      <td>0</td>\n",
              "      <td>-1.359807</td>\n",
              "      <td>-0.072781</td>\n",
              "      <td>2.536347</td>\n",
              "      <td>1.378155</td>\n",
              "      <td>-0.338321</td>\n",
              "      <td>0.462388</td>\n",
              "      <td>0.239599</td>\n",
              "      <td>0.098698</td>\n",
              "      <td>0.363787</td>\n",
              "      <td>...</td>\n",
              "      <td>-0.018307</td>\n",
              "      <td>0.277838</td>\n",
              "      <td>-0.110474</td>\n",
              "      <td>0.066928</td>\n",
              "      <td>0.128539</td>\n",
              "      <td>-0.189115</td>\n",
              "      <td>0.133558</td>\n",
              "      <td>-0.021053</td>\n",
              "      <td>149.62</td>\n",
              "      <td>0.0</td>\n",
              "    </tr>\n",
              "    <tr>\n",
              "      <th>1</th>\n",
              "      <td>0</td>\n",
              "      <td>1.191857</td>\n",
              "      <td>0.266151</td>\n",
              "      <td>0.166480</td>\n",
              "      <td>0.448154</td>\n",
              "      <td>0.060018</td>\n",
              "      <td>-0.082361</td>\n",
              "      <td>-0.078803</td>\n",
              "      <td>0.085102</td>\n",
              "      <td>-0.255425</td>\n",
              "      <td>...</td>\n",
              "      <td>-0.225775</td>\n",
              "      <td>-0.638672</td>\n",
              "      <td>0.101288</td>\n",
              "      <td>-0.339846</td>\n",
              "      <td>0.167170</td>\n",
              "      <td>0.125895</td>\n",
              "      <td>-0.008983</td>\n",
              "      <td>0.014724</td>\n",
              "      <td>2.69</td>\n",
              "      <td>0.0</td>\n",
              "    </tr>\n",
              "    <tr>\n",
              "      <th>2</th>\n",
              "      <td>1</td>\n",
              "      <td>-1.358354</td>\n",
              "      <td>-1.340163</td>\n",
              "      <td>1.773209</td>\n",
              "      <td>0.379780</td>\n",
              "      <td>-0.503198</td>\n",
              "      <td>1.800499</td>\n",
              "      <td>0.791461</td>\n",
              "      <td>0.247676</td>\n",
              "      <td>-1.514654</td>\n",
              "      <td>...</td>\n",
              "      <td>0.247998</td>\n",
              "      <td>0.771679</td>\n",
              "      <td>0.909412</td>\n",
              "      <td>-0.689281</td>\n",
              "      <td>-0.327642</td>\n",
              "      <td>-0.139097</td>\n",
              "      <td>-0.055353</td>\n",
              "      <td>-0.059752</td>\n",
              "      <td>378.66</td>\n",
              "      <td>0.0</td>\n",
              "    </tr>\n",
              "    <tr>\n",
              "      <th>3</th>\n",
              "      <td>1</td>\n",
              "      <td>-0.966272</td>\n",
              "      <td>-0.185226</td>\n",
              "      <td>1.792993</td>\n",
              "      <td>-0.863291</td>\n",
              "      <td>-0.010309</td>\n",
              "      <td>1.247203</td>\n",
              "      <td>0.237609</td>\n",
              "      <td>0.377436</td>\n",
              "      <td>-1.387024</td>\n",
              "      <td>...</td>\n",
              "      <td>-0.108300</td>\n",
              "      <td>0.005274</td>\n",
              "      <td>-0.190321</td>\n",
              "      <td>-1.175575</td>\n",
              "      <td>0.647376</td>\n",
              "      <td>-0.221929</td>\n",
              "      <td>0.062723</td>\n",
              "      <td>0.061458</td>\n",
              "      <td>123.50</td>\n",
              "      <td>0.0</td>\n",
              "    </tr>\n",
              "    <tr>\n",
              "      <th>4</th>\n",
              "      <td>2</td>\n",
              "      <td>-1.158233</td>\n",
              "      <td>0.877737</td>\n",
              "      <td>1.548718</td>\n",
              "      <td>0.403034</td>\n",
              "      <td>-0.407193</td>\n",
              "      <td>0.095921</td>\n",
              "      <td>0.592941</td>\n",
              "      <td>-0.270533</td>\n",
              "      <td>0.817739</td>\n",
              "      <td>...</td>\n",
              "      <td>-0.009431</td>\n",
              "      <td>0.798278</td>\n",
              "      <td>-0.137458</td>\n",
              "      <td>0.141267</td>\n",
              "      <td>-0.206010</td>\n",
              "      <td>0.502292</td>\n",
              "      <td>0.219422</td>\n",
              "      <td>0.215153</td>\n",
              "      <td>69.99</td>\n",
              "      <td>0.0</td>\n",
              "    </tr>\n",
              "  </tbody>\n",
              "</table>\n",
              "<p>5 rows × 31 columns</p>\n",
              "</div>\n",
              "    <div class=\"colab-df-buttons\">\n",
              "\n",
              "  <div class=\"colab-df-container\">\n",
              "    <button class=\"colab-df-convert\" onclick=\"convertToInteractive('df-986139a8-1461-4c49-a5c4-85b19b559056')\"\n",
              "            title=\"Convert this dataframe to an interactive table.\"\n",
              "            style=\"display:none;\">\n",
              "\n",
              "  <svg xmlns=\"http://www.w3.org/2000/svg\" height=\"24px\" viewBox=\"0 -960 960 960\">\n",
              "    <path d=\"M120-120v-720h720v720H120Zm60-500h600v-160H180v160Zm220 220h160v-160H400v160Zm0 220h160v-160H400v160ZM180-400h160v-160H180v160Zm440 0h160v-160H620v160ZM180-180h160v-160H180v160Zm440 0h160v-160H620v160Z\"/>\n",
              "  </svg>\n",
              "    </button>\n",
              "\n",
              "  <style>\n",
              "    .colab-df-container {\n",
              "      display:flex;\n",
              "      gap: 12px;\n",
              "    }\n",
              "\n",
              "    .colab-df-convert {\n",
              "      background-color: #E8F0FE;\n",
              "      border: none;\n",
              "      border-radius: 50%;\n",
              "      cursor: pointer;\n",
              "      display: none;\n",
              "      fill: #1967D2;\n",
              "      height: 32px;\n",
              "      padding: 0 0 0 0;\n",
              "      width: 32px;\n",
              "    }\n",
              "\n",
              "    .colab-df-convert:hover {\n",
              "      background-color: #E2EBFA;\n",
              "      box-shadow: 0px 1px 2px rgba(60, 64, 67, 0.3), 0px 1px 3px 1px rgba(60, 64, 67, 0.15);\n",
              "      fill: #174EA6;\n",
              "    }\n",
              "\n",
              "    .colab-df-buttons div {\n",
              "      margin-bottom: 4px;\n",
              "    }\n",
              "\n",
              "    [theme=dark] .colab-df-convert {\n",
              "      background-color: #3B4455;\n",
              "      fill: #D2E3FC;\n",
              "    }\n",
              "\n",
              "    [theme=dark] .colab-df-convert:hover {\n",
              "      background-color: #434B5C;\n",
              "      box-shadow: 0px 1px 3px 1px rgba(0, 0, 0, 0.15);\n",
              "      filter: drop-shadow(0px 1px 2px rgba(0, 0, 0, 0.3));\n",
              "      fill: #FFFFFF;\n",
              "    }\n",
              "  </style>\n",
              "\n",
              "    <script>\n",
              "      const buttonEl =\n",
              "        document.querySelector('#df-986139a8-1461-4c49-a5c4-85b19b559056 button.colab-df-convert');\n",
              "      buttonEl.style.display =\n",
              "        google.colab.kernel.accessAllowed ? 'block' : 'none';\n",
              "\n",
              "      async function convertToInteractive(key) {\n",
              "        const element = document.querySelector('#df-986139a8-1461-4c49-a5c4-85b19b559056');\n",
              "        const dataTable =\n",
              "          await google.colab.kernel.invokeFunction('convertToInteractive',\n",
              "                                                    [key], {});\n",
              "        if (!dataTable) return;\n",
              "\n",
              "        const docLinkHtml = 'Like what you see? Visit the ' +\n",
              "          '<a target=\"_blank\" href=https://colab.research.google.com/notebooks/data_table.ipynb>data table notebook</a>'\n",
              "          + ' to learn more about interactive tables.';\n",
              "        element.innerHTML = '';\n",
              "        dataTable['output_type'] = 'display_data';\n",
              "        await google.colab.output.renderOutput(dataTable, element);\n",
              "        const docLink = document.createElement('div');\n",
              "        docLink.innerHTML = docLinkHtml;\n",
              "        element.appendChild(docLink);\n",
              "      }\n",
              "    </script>\n",
              "  </div>\n",
              "\n",
              "\n",
              "<div id=\"df-6fa8f543-8e06-4df0-83c9-3192499258ce\">\n",
              "  <button class=\"colab-df-quickchart\" onclick=\"quickchart('df-6fa8f543-8e06-4df0-83c9-3192499258ce')\"\n",
              "            title=\"Suggest charts\"\n",
              "            style=\"display:none;\">\n",
              "\n",
              "<svg xmlns=\"http://www.w3.org/2000/svg\" height=\"24px\"viewBox=\"0 0 24 24\"\n",
              "     width=\"24px\">\n",
              "    <g>\n",
              "        <path d=\"M19 3H5c-1.1 0-2 .9-2 2v14c0 1.1.9 2 2 2h14c1.1 0 2-.9 2-2V5c0-1.1-.9-2-2-2zM9 17H7v-7h2v7zm4 0h-2V7h2v10zm4 0h-2v-4h2v4z\"/>\n",
              "    </g>\n",
              "</svg>\n",
              "  </button>\n",
              "\n",
              "<style>\n",
              "  .colab-df-quickchart {\n",
              "      --bg-color: #E8F0FE;\n",
              "      --fill-color: #1967D2;\n",
              "      --hover-bg-color: #E2EBFA;\n",
              "      --hover-fill-color: #174EA6;\n",
              "      --disabled-fill-color: #AAA;\n",
              "      --disabled-bg-color: #DDD;\n",
              "  }\n",
              "\n",
              "  [theme=dark] .colab-df-quickchart {\n",
              "      --bg-color: #3B4455;\n",
              "      --fill-color: #D2E3FC;\n",
              "      --hover-bg-color: #434B5C;\n",
              "      --hover-fill-color: #FFFFFF;\n",
              "      --disabled-bg-color: #3B4455;\n",
              "      --disabled-fill-color: #666;\n",
              "  }\n",
              "\n",
              "  .colab-df-quickchart {\n",
              "    background-color: var(--bg-color);\n",
              "    border: none;\n",
              "    border-radius: 50%;\n",
              "    cursor: pointer;\n",
              "    display: none;\n",
              "    fill: var(--fill-color);\n",
              "    height: 32px;\n",
              "    padding: 0;\n",
              "    width: 32px;\n",
              "  }\n",
              "\n",
              "  .colab-df-quickchart:hover {\n",
              "    background-color: var(--hover-bg-color);\n",
              "    box-shadow: 0 1px 2px rgba(60, 64, 67, 0.3), 0 1px 3px 1px rgba(60, 64, 67, 0.15);\n",
              "    fill: var(--button-hover-fill-color);\n",
              "  }\n",
              "\n",
              "  .colab-df-quickchart-complete:disabled,\n",
              "  .colab-df-quickchart-complete:disabled:hover {\n",
              "    background-color: var(--disabled-bg-color);\n",
              "    fill: var(--disabled-fill-color);\n",
              "    box-shadow: none;\n",
              "  }\n",
              "\n",
              "  .colab-df-spinner {\n",
              "    border: 2px solid var(--fill-color);\n",
              "    border-color: transparent;\n",
              "    border-bottom-color: var(--fill-color);\n",
              "    animation:\n",
              "      spin 1s steps(1) infinite;\n",
              "  }\n",
              "\n",
              "  @keyframes spin {\n",
              "    0% {\n",
              "      border-color: transparent;\n",
              "      border-bottom-color: var(--fill-color);\n",
              "      border-left-color: var(--fill-color);\n",
              "    }\n",
              "    20% {\n",
              "      border-color: transparent;\n",
              "      border-left-color: var(--fill-color);\n",
              "      border-top-color: var(--fill-color);\n",
              "    }\n",
              "    30% {\n",
              "      border-color: transparent;\n",
              "      border-left-color: var(--fill-color);\n",
              "      border-top-color: var(--fill-color);\n",
              "      border-right-color: var(--fill-color);\n",
              "    }\n",
              "    40% {\n",
              "      border-color: transparent;\n",
              "      border-right-color: var(--fill-color);\n",
              "      border-top-color: var(--fill-color);\n",
              "    }\n",
              "    60% {\n",
              "      border-color: transparent;\n",
              "      border-right-color: var(--fill-color);\n",
              "    }\n",
              "    80% {\n",
              "      border-color: transparent;\n",
              "      border-right-color: var(--fill-color);\n",
              "      border-bottom-color: var(--fill-color);\n",
              "    }\n",
              "    90% {\n",
              "      border-color: transparent;\n",
              "      border-bottom-color: var(--fill-color);\n",
              "    }\n",
              "  }\n",
              "</style>\n",
              "\n",
              "  <script>\n",
              "    async function quickchart(key) {\n",
              "      const quickchartButtonEl =\n",
              "        document.querySelector('#' + key + ' button');\n",
              "      quickchartButtonEl.disabled = true;  // To prevent multiple clicks.\n",
              "      quickchartButtonEl.classList.add('colab-df-spinner');\n",
              "      try {\n",
              "        const charts = await google.colab.kernel.invokeFunction(\n",
              "            'suggestCharts', [key], {});\n",
              "      } catch (error) {\n",
              "        console.error('Error during call to suggestCharts:', error);\n",
              "      }\n",
              "      quickchartButtonEl.classList.remove('colab-df-spinner');\n",
              "      quickchartButtonEl.classList.add('colab-df-quickchart-complete');\n",
              "    }\n",
              "    (() => {\n",
              "      let quickchartButtonEl =\n",
              "        document.querySelector('#df-6fa8f543-8e06-4df0-83c9-3192499258ce button');\n",
              "      quickchartButtonEl.style.display =\n",
              "        google.colab.kernel.accessAllowed ? 'block' : 'none';\n",
              "    })();\n",
              "  </script>\n",
              "</div>\n",
              "    </div>\n",
              "  </div>\n"
            ],
            "application/vnd.google.colaboratory.intrinsic+json": {
              "type": "dataframe",
              "variable_name": "data"
            }
          },
          "metadata": {},
          "execution_count": 11
        }
      ]
    },
    {
      "cell_type": "markdown",
      "source": [
        "NaN values"
      ],
      "metadata": {
        "id": "TYpB7GMFkicL"
      }
    },
    {
      "cell_type": "code",
      "source": [
        "import pandas as pd\n",
        "\n",
        "# Drop rows with NaN values\n",
        "data.dropna(inplace=True)\n"
      ],
      "metadata": {
        "id": "nAx2WBltkoka"
      },
      "execution_count": 20,
      "outputs": []
    },
    {
      "cell_type": "markdown",
      "source": [
        "Splitting our dataset"
      ],
      "metadata": {
        "id": "xvF6fbJVncb1"
      }
    },
    {
      "cell_type": "code",
      "source": [
        "from sklearn.model_selection import train_test_split\n",
        "from sklearn.preprocessing import StandardScaler\n",
        "from sklearn.decomposition import PCA\n",
        "\n",
        "# Separate features and target variable\n",
        "X = data.drop(columns=['Class'])\n",
        "y = data['Class']\n",
        "\n",
        "# Standardize the features\n",
        "scaler = StandardScaler()\n",
        "X_scaled = scaler.fit_transform(X)\n",
        "\n",
        "# Split the data into training and testing sets\n",
        "X_train, X_test, y_train, y_test = train_test_split(X_scaled, y, test_size=0.2, random_state=42)\n"
      ],
      "metadata": {
        "id": "0m6bhJtQnb1j"
      },
      "execution_count": 21,
      "outputs": []
    },
    {
      "cell_type": "code",
      "source": [
        "# Perform PCA\n",
        "pca = PCA(n_components=0.95)  # Retain 95% of variance\n",
        "X_train_pca = pca.fit_transform(X_train)\n",
        "X_test_pca = pca.transform(X_test)\n",
        "\n",
        "# Check the number of principal components retained\n",
        "print(\"Number of principal components:\", pca.n_components_)\n"
      ],
      "metadata": {
        "colab": {
          "base_uri": "https://localhost:8080/"
        },
        "id": "IY2_YwxRnkEn",
        "outputId": "2b8341c5-443f-4746-d9a3-b7ea15884f64"
      },
      "execution_count": 22,
      "outputs": [
        {
          "output_type": "stream",
          "name": "stdout",
          "text": [
            "Number of principal components: 25\n"
          ]
        }
      ]
    },
    {
      "cell_type": "code",
      "source": [
        "import tensorflow as tf\n",
        "from tensorflow.keras.models import Sequential\n",
        "from tensorflow.keras.layers import Dense\n",
        "\n",
        "# Define the autoencoder architecture\n",
        "model = Sequential([\n",
        "    Dense(128, activation='relu', input_shape=(X_train_pca.shape[1],)),\n",
        "    Dense(64, activation='relu'),\n",
        "    Dense(32, activation='relu'),\n",
        "    Dense(64, activation='relu'),\n",
        "    Dense(128, activation='relu'),\n",
        "    Dense(X_train_pca.shape[1], activation='linear')  # Output layer with linear activation\n",
        "])\n",
        "\n",
        "# Compile the model\n",
        "model.compile(optimizer='adam', loss='mean_squared_error')\n",
        "\n",
        "# Print model summary\n",
        "print(model.summary())\n"
      ],
      "metadata": {
        "colab": {
          "base_uri": "https://localhost:8080/"
        },
        "id": "kTv6Q1Srnvll",
        "outputId": "9fc70cbc-941d-4964-bfa7-786075d7d6bc"
      },
      "execution_count": 23,
      "outputs": [
        {
          "output_type": "stream",
          "name": "stdout",
          "text": [
            "Model: \"sequential\"\n",
            "_________________________________________________________________\n",
            " Layer (type)                Output Shape              Param #   \n",
            "=================================================================\n",
            " dense (Dense)               (None, 128)               3328      \n",
            "                                                                 \n",
            " dense_1 (Dense)             (None, 64)                8256      \n",
            "                                                                 \n",
            " dense_2 (Dense)             (None, 32)                2080      \n",
            "                                                                 \n",
            " dense_3 (Dense)             (None, 64)                2112      \n",
            "                                                                 \n",
            " dense_4 (Dense)             (None, 128)               8320      \n",
            "                                                                 \n",
            " dense_5 (Dense)             (None, 25)                3225      \n",
            "                                                                 \n",
            "=================================================================\n",
            "Total params: 27321 (106.72 KB)\n",
            "Trainable params: 27321 (106.72 KB)\n",
            "Non-trainable params: 0 (0.00 Byte)\n",
            "_________________________________________________________________\n",
            "None\n"
          ]
        }
      ]
    },
    {
      "cell_type": "code",
      "source": [
        "# Train the model\n",
        "history = model.fit(X_train_pca, X_train_pca, epochs=50, batch_size=32, validation_split=0.2)\n"
      ],
      "metadata": {
        "colab": {
          "base_uri": "https://localhost:8080/"
        },
        "id": "kQ03OsQ6n5yu",
        "outputId": "fe82bfc6-5d32-4d79-95dd-4273091f1e3a"
      },
      "execution_count": 28,
      "outputs": [
        {
          "output_type": "stream",
          "name": "stdout",
          "text": [
            "Epoch 1/50\n",
            "319/319 [==============================] - 3s 9ms/step - loss: 0.0137 - val_loss: 0.0100\n",
            "Epoch 2/50\n",
            "319/319 [==============================] - 2s 5ms/step - loss: 0.0146 - val_loss: 0.0120\n",
            "Epoch 3/50\n",
            "319/319 [==============================] - 2s 5ms/step - loss: 0.0119 - val_loss: 0.0148\n",
            "Epoch 4/50\n",
            "319/319 [==============================] - 1s 4ms/step - loss: 0.0142 - val_loss: 0.0129\n",
            "Epoch 5/50\n",
            "319/319 [==============================] - 1s 3ms/step - loss: 0.0115 - val_loss: 0.0392\n",
            "Epoch 6/50\n",
            "319/319 [==============================] - 1s 3ms/step - loss: 0.0230 - val_loss: 0.0082\n",
            "Epoch 7/50\n",
            "319/319 [==============================] - 1s 3ms/step - loss: 0.0205 - val_loss: 0.0110\n",
            "Epoch 8/50\n",
            "319/319 [==============================] - 1s 3ms/step - loss: 0.0152 - val_loss: 0.0278\n",
            "Epoch 9/50\n",
            "319/319 [==============================] - 1s 3ms/step - loss: 0.0110 - val_loss: 0.0101\n",
            "Epoch 10/50\n",
            "319/319 [==============================] - 1s 3ms/step - loss: 0.0151 - val_loss: 0.0081\n",
            "Epoch 11/50\n",
            "319/319 [==============================] - 1s 4ms/step - loss: 0.0122 - val_loss: 0.0076\n",
            "Epoch 12/50\n",
            "319/319 [==============================] - 1s 5ms/step - loss: 0.0109 - val_loss: 0.0070\n",
            "Epoch 13/50\n",
            "319/319 [==============================] - 2s 5ms/step - loss: 0.0127 - val_loss: 0.0236\n",
            "Epoch 14/50\n",
            "319/319 [==============================] - 1s 4ms/step - loss: 0.0179 - val_loss: 0.0236\n",
            "Epoch 15/50\n",
            "319/319 [==============================] - 1s 3ms/step - loss: 0.0174 - val_loss: 0.0070\n",
            "Epoch 16/50\n",
            "319/319 [==============================] - 1s 3ms/step - loss: 0.0098 - val_loss: 0.0147\n",
            "Epoch 17/50\n",
            "319/319 [==============================] - 1s 3ms/step - loss: 0.0130 - val_loss: 0.0159\n",
            "Epoch 18/50\n",
            "319/319 [==============================] - 1s 3ms/step - loss: 0.0091 - val_loss: 0.0219\n",
            "Epoch 19/50\n",
            "319/319 [==============================] - 1s 3ms/step - loss: 0.0260 - val_loss: 0.0078\n",
            "Epoch 20/50\n",
            "319/319 [==============================] - 1s 3ms/step - loss: 0.0110 - val_loss: 0.1172\n",
            "Epoch 21/50\n",
            "319/319 [==============================] - 1s 3ms/step - loss: 0.0184 - val_loss: 0.0062\n",
            "Epoch 22/50\n",
            "319/319 [==============================] - 1s 3ms/step - loss: 0.0097 - val_loss: 0.0051\n",
            "Epoch 23/50\n",
            "319/319 [==============================] - 1s 3ms/step - loss: 0.0099 - val_loss: 0.0046\n",
            "Epoch 24/50\n",
            "319/319 [==============================] - 1s 3ms/step - loss: 0.0088 - val_loss: 0.0053\n",
            "Epoch 25/50\n",
            "319/319 [==============================] - 1s 4ms/step - loss: 0.0066 - val_loss: 0.0172\n",
            "Epoch 26/50\n",
            "319/319 [==============================] - 1s 4ms/step - loss: 0.0212 - val_loss: 0.0152\n",
            "Epoch 27/50\n",
            "319/319 [==============================] - 2s 5ms/step - loss: 0.0175 - val_loss: 0.0084\n",
            "Epoch 28/50\n",
            "319/319 [==============================] - 1s 5ms/step - loss: 0.0148 - val_loss: 0.0059\n",
            "Epoch 29/50\n",
            "319/319 [==============================] - 1s 3ms/step - loss: 0.0074 - val_loss: 0.0185\n",
            "Epoch 30/50\n",
            "319/319 [==============================] - 1s 3ms/step - loss: 0.0205 - val_loss: 0.0054\n",
            "Epoch 31/50\n",
            "319/319 [==============================] - 1s 3ms/step - loss: 0.0058 - val_loss: 0.0064\n",
            "Epoch 32/50\n",
            "319/319 [==============================] - 1s 3ms/step - loss: 0.0053 - val_loss: 0.0054\n",
            "Epoch 33/50\n",
            "319/319 [==============================] - 1s 3ms/step - loss: 0.0097 - val_loss: 0.0059\n",
            "Epoch 34/50\n",
            "319/319 [==============================] - 1s 3ms/step - loss: 0.0063 - val_loss: 0.0074\n",
            "Epoch 35/50\n",
            "319/319 [==============================] - 1s 3ms/step - loss: 0.0058 - val_loss: 0.0263\n",
            "Epoch 36/50\n",
            "319/319 [==============================] - 1s 3ms/step - loss: 0.0157 - val_loss: 0.0084\n",
            "Epoch 37/50\n",
            "319/319 [==============================] - 1s 3ms/step - loss: 0.0103 - val_loss: 0.0044\n",
            "Epoch 38/50\n",
            "319/319 [==============================] - 1s 3ms/step - loss: 0.0093 - val_loss: 0.0049\n",
            "Epoch 39/50\n",
            "319/319 [==============================] - 1s 3ms/step - loss: 0.0068 - val_loss: 0.0193\n",
            "Epoch 40/50\n",
            "319/319 [==============================] - 1s 5ms/step - loss: 0.0085 - val_loss: 0.0111\n",
            "Epoch 41/50\n",
            "319/319 [==============================] - 2s 5ms/step - loss: 0.0083 - val_loss: 0.0059\n",
            "Epoch 42/50\n",
            "319/319 [==============================] - 2s 5ms/step - loss: 0.0108 - val_loss: 0.0037\n",
            "Epoch 43/50\n",
            "319/319 [==============================] - 1s 3ms/step - loss: 0.0122 - val_loss: 0.0081\n",
            "Epoch 44/50\n",
            "319/319 [==============================] - 1s 3ms/step - loss: 0.0079 - val_loss: 0.0040\n",
            "Epoch 45/50\n",
            "319/319 [==============================] - 1s 3ms/step - loss: 0.0067 - val_loss: 0.0037\n",
            "Epoch 46/50\n",
            "319/319 [==============================] - 1s 3ms/step - loss: 0.0098 - val_loss: 0.0037\n",
            "Epoch 47/50\n",
            "319/319 [==============================] - 1s 3ms/step - loss: 0.0061 - val_loss: 0.0126\n",
            "Epoch 48/50\n",
            "319/319 [==============================] - 1s 3ms/step - loss: 0.0056 - val_loss: 0.0187\n",
            "Epoch 49/50\n",
            "319/319 [==============================] - 1s 3ms/step - loss: 0.0127 - val_loss: 0.0046\n",
            "Epoch 50/50\n",
            "319/319 [==============================] - 1s 3ms/step - loss: 0.0082 - val_loss: 0.0057\n"
          ]
        }
      ]
    },
    {
      "cell_type": "code",
      "source": [
        "import matplotlib.pyplot as plt\n",
        "\n",
        "# Evaluate the model\n",
        "loss = model.evaluate(X_test_pca, X_test_pca)\n",
        "print(\"Test Loss:\", loss)\n",
        "\n",
        "# Plot training history\n",
        "plt.plot(history.history['loss'], label='Training Loss')\n",
        "plt.plot(history.history['val_loss'], label='Validation Loss')\n",
        "plt.xlabel('Epochs')\n",
        "plt.ylabel('Loss')\n",
        "plt.legend()\n",
        "plt.show()\n"
      ],
      "metadata": {
        "colab": {
          "base_uri": "https://localhost:8080/",
          "height": 484
        },
        "id": "lfVJfrPMoAuR",
        "outputId": "ab4269b5-ff98-4bb0-bef5-6218d8be025e"
      },
      "execution_count": 29,
      "outputs": [
        {
          "output_type": "stream",
          "name": "stdout",
          "text": [
            "100/100 [==============================] - 0s 2ms/step - loss: 0.0099\n",
            "Test Loss: 0.009932350367307663\n"
          ]
        },
        {
          "output_type": "display_data",
          "data": {
            "text/plain": [
              "<Figure size 640x480 with 1 Axes>"
            ],
            "image/png": "[encoded data removed]"
          },
          "metadata": {}
        }
      ]
    },
    {
      "cell_type": "code",
      "source": [
        "import numpy as np\n",
        "from sklearn.metrics import mean_squared_error, classification_report, confusion_matrix, ConfusionMatrixDisplay\n",
        "\n",
        "# Reconstruct the input data using the trained autoencoder\n",
        "X_test_pred = model.predict(X_test_pca)\n",
        "\n",
        "# Calculate the Mean Squared Error (MSE) as the reconstruction error\n",
        "mse = np.mean(np.square(X_test_pca - X_test_pred))\n",
        "\n",
        "# Print the MSE\n",
        "print(\"Mean Squared Error (MSE):\", mse)\n",
        "\n",
        "# Define a threshold for anomaly detection\n",
        "threshold = mse  # You can adjust this threshold based on your specific problem\n",
        "\n",
        "# Classify anomalies based on the threshold\n",
        "y_pred = np.where(np.mean(np.square(X_test_pca - X_test_pred), axis=1) > threshold, 1, 0)\n",
        "\n",
        "# Evaluate the performance using classification report and confusion matrix\n",
        "print(\"Classification Report:\")\n",
        "print(classification_report(y_test, y_pred))\n",
        "\n",
        "# Plot confusion matrix\n",
        "cm = confusion_matrix(y_test, y_pred)\n",
        "disp = ConfusionMatrixDisplay(confusion_matrix=cm, display_labels=['Normal', 'Fraudulent'])\n",
        "disp.plot()\n",
        "plt.show()\n"
      ],
      "metadata": {
        "colab": {
          "base_uri": "https://localhost:8080/",
          "height": 657
        },
        "id": "g8VmC95ioIjU",
        "outputId": "a8b30d74-ffa6-49d2-c480-bf99733afbdc"
      },
      "execution_count": 30,
      "outputs": [
        {
          "output_type": "stream",
          "name": "stdout",
          "text": [
            "100/100 [==============================] - 0s 2ms/step\n",
            "Mean Squared Error (MSE): 0.00993234891395331\n",
            "Classification Report:\n",
            "              precision    recall  f1-score   support\n",
            "\n",
            "         0.0       1.00      0.94      0.97      3167\n",
            "         1.0       0.09      0.95      0.16        20\n",
            "\n",
            "    accuracy                           0.94      3187\n",
            "   macro avg       0.54      0.94      0.57      3187\n",
            "weighted avg       0.99      0.94      0.96      3187\n",
            "\n"
          ]
        },
        {
          "output_type": "display_data",
          "data": {
            "text/plain": [
              "<Figure size 640x480 with 2 Axes>"
            ],
            "image/png": "[encoded data removed]"
          },
          "metadata": {}
        }
      ]
    },
    {
      "cell_type": "markdown",
      "source": [
        "- Mean Squared Error (MSE): The MSE between the input data and its reconstruction by the autoencoder is approximately 0.0185.\n",
        "\n",
        "Classification Report:\n",
        "\n",
        "- Precision: The precision for class 0 (normal transactions) is 100%, indicating that almost all instances classified as normal transactions are true normal transactions. However, the precision for class 1 (fraudulent transactions) is only 4%, suggesting a high rate of false positives among the instances classified as fraudulent.\n",
        "\n",
        "- Recall: The recall for class 0 is 87%, indicating that the model correctly identifies 87% of the true normal transactions. The recall for class 1 is 95%, indicating that the model captures 95% of the true fraudulent transactions.\n",
        "\n",
        "- F1-score: The F1-score is a harmonic mean of precision and recall. The F1-score for class 0 is 0.93, while for class 1, it's only 0.08. This low F1-score for class 1 suggests that the model struggles to balance precision and recall for detecting fraudulent transactions.\n",
        "\n",
        "- Accuracy: The overall accuracy of the model is 87%, which is high but can be misleading due to the class imbalance.\n",
        "Support: The support represents the number of occurrences of each class in the test set. There are 3167 instances of class 0 (normal transactions) and 20 instances of class 1 (fraudulent transactions)."
      ],
      "metadata": {
        "id": "bOWhvA-spCre"
      }
    },
    {
      "cell_type": "code",
      "source": [
        "from sklearn.ensemble import RandomForestClassifier\n",
        "from sklearn.metrics import classification_report, confusion_matrix\n",
        "\n",
        "# Create a random forest classifier\n",
        "rf_classifier = RandomForestClassifier(n_estimators=100, random_state=42)\n",
        "\n",
        "# Train the classifier\n",
        "rf_classifier.fit(X_train, y_train)\n",
        "\n",
        "# Predict on the test set\n",
        "y_pred_rf = rf_classifier.predict(X_test)\n",
        "\n",
        "# Evaluate the classifier\n",
        "print(\"Random Forest Classifier Evaluation:\")\n",
        "print(classification_report(y_test, y_pred_rf))\n",
        "print(\"Confusion Matrix:\")\n",
        "print(confusion_matrix(y_test, y_pred_rf))\n"
      ],
      "metadata": {
        "colab": {
          "base_uri": "https://localhost:8080/"
        },
        "id": "XBqnBUeJqWbC",
        "outputId": "1836665f-562d-49e7-f57d-ea06e9d8d208"
      },
      "execution_count": 31,
      "outputs": [
        {
          "output_type": "stream",
          "name": "stdout",
          "text": [
            "Random Forest Classifier Evaluation:\n",
            "              precision    recall  f1-score   support\n",
            "\n",
            "         0.0       1.00      1.00      1.00      3167\n",
            "         1.0       0.90      0.95      0.93        20\n",
            "\n",
            "    accuracy                           1.00      3187\n",
            "   macro avg       0.95      0.97      0.96      3187\n",
            "weighted avg       1.00      1.00      1.00      3187\n",
            "\n",
            "Confusion Matrix:\n",
            "[[3165    2]\n",
            " [   1   19]]\n"
          ]
        }
      ]
    },
    {
      "cell_type": "markdown",
      "source": [
        "- Precision: Precision measures the proportion of correctly predicted positive cases (fraudulent transactions) out of all predicted positive cases. For class 1 (fraudulent transactions), the precision is 0.90, indicating that 90% of the transactions classified as fraudulent are indeed fraudulent.\n",
        "\n",
        "- Recall: Recall (also known as sensitivity) measures the proportion of correctly predicted positive cases out of all actual positive cases. For class 1, the recall is 0.95, indicating that 95% of the actual fraudulent transactions are correctly identified by the model.\n",
        "\n",
        "- F1-score: The F1-score is the harmonic mean of precision and recall, providing a balance between the two metrics. For class 1, the F1-score is 0.93, indicating a good balance between precision and recall.\n",
        "\n",
        "- Accuracy: Accuracy measures the overall correctness of the model's predictions. The model achieves an accuracy of 1.00, indicating that all transactions are correctly classified as either normal or fraudulent."
      ],
      "metadata": {
        "id": "nOiNM2dPqm49"
      }
    },
    {
      "cell_type": "code",
      "source": [
        "from sklearn.metrics import accuracy_score,recall_score,precision_score,classification_report, ConfusionMatrixDisplay\n"
      ],
      "metadata": {
        "id": "hQ6--h4eq67l"
      },
      "execution_count": 32,
      "outputs": []
    },
    {
      "cell_type": "code",
      "source": [
        "ConfusionMatrixDisplay.from_predictions(y_test,y_pred_rf)\n"
      ],
      "metadata": {
        "colab": {
          "base_uri": "https://localhost:8080/",
          "height": 466
        },
        "id": "DJXU64LBq031",
        "outputId": "d42e9ab1-b69a-47d1-eb4e-fb417db15379"
      },
      "execution_count": 33,
      "outputs": [
        {
          "output_type": "execute_result",
          "data": {
            "text/plain": [
              "<sklearn.metrics._plot.confusion_matrix.ConfusionMatrixDisplay at 0x7d3951bafa00>"
            ]
          },
          "metadata": {},
          "execution_count": 33
        },
        {
          "output_type": "display_data",
          "data": {
            "text/plain": [
              "<Figure size 640x480 with 2 Axes>"
            ],
            "image/png": "[encoded data removed]"
          },
          "metadata": {}
        }
      ]
    }
  ]
}